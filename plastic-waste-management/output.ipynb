{
 "cells": [
  {
   "cell_type": "code",
   "execution_count": 3,
   "id": "fa8a4e4d",
   "metadata": {},
   "outputs": [
    {
     "name": "stdout",
     "output_type": "stream",
     "text": [
      "1/1 [==============================] - 0s 309ms/step\n",
      "p.shape: (1, 6)\n",
      "prob 0.3614756\n",
      "classified label: metal\n",
      "metal \n",
      " Probability:0.3614756\n"
     ]
    }
   ],
   "source": [
    "import os\n",
    "import cv2\n",
    "import tensorflow as tf\n",
    "import numpy as np\n",
    "from keras.preprocessing import image\n",
    "\n",
    "def predict(img_path):\n",
    "     labels={0: 'cardboard', 1: 'glass', 2: 'metal', 3: 'paper', 4: 'plastic', 5: 'trash'}\n",
    "#img_path = 'C:/Users/DELL/OneDrive/Desktop/ml project/images (2).jpeg'\n",
    "\n",
    "     img = image.load_img(img_path, target_size=(300, 300))\n",
    "     img = image.img_to_array(img, dtype=np.uint8)\n",
    "     img=np.array(img)/255.0\n",
    "#plt.imshow(img.squeeze())\n",
    "     \n",
    "     model = tf.keras.models.load_model(\"Garbage.h5\")\n",
    "     p=model.predict(img[np.newaxis, ...])\n",
    "     pro=np.max(p[0], axis=-1)\n",
    "     print(\"p.shape:\",p.shape)\n",
    "     print(\"prob\",pro)\n",
    "     predicted_class = labels[np.argmax(p[0], axis=-1)]\n",
    "     os.remove(img_path)\n",
    "     print(\"classified label:\",predicted_class)\n",
    "     return(str(predicted_class)+\" \\n Probability:\"+str(pro))\n",
    "print(predict(img_path = 'C:/Users/DELL/OneDrive/Desktop/l/pla.jpeg'))"
   ]
  },
  {
   "cell_type": "code",
   "execution_count": null,
   "id": "21cf0043",
   "metadata": {},
   "outputs": [],
   "source": []
  }
 ],
 "metadata": {
  "kernelspec": {
   "display_name": "Python 3 (ipykernel)",
   "language": "python",
   "name": "python3"
  },
  "language_info": {
   "codemirror_mode": {
    "name": "ipython",
    "version": 3
   },
   "file_extension": ".py",
   "mimetype": "text/x-python",
   "name": "python",
   "nbconvert_exporter": "python",
   "pygments_lexer": "ipython3",
   "version": "3.9.13"
  }
 },
 "nbformat": 4,
 "nbformat_minor": 5
}
